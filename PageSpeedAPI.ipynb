{
 "cells": [
  {
   "cell_type": "markdown",
   "metadata": {},
   "source": [
    "# PageSpeed Insightsのスコア取得"
   ]
  },
  {
   "cell_type": "markdown",
   "metadata": {},
   "source": [
    "## ライブラリの呼び出し"
   ]
  },
  {
   "cell_type": "code",
   "execution_count": 155,
   "metadata": {},
   "outputs": [],
   "source": [
    "import pandas as pd \n",
    "import sys,json,os,datetime \n",
    "from dotenv import load_dotenv, find_dotenv # 環境変数の取得用\n",
    "import urllib.request # url取得用\n",
    "from urllib.parse import urlparse # ドメイン取得用"
   ]
  },
  {
   "cell_type": "markdown",
   "metadata": {},
   "source": [
    "## 環境変数の呼び出し"
   ]
  },
  {
   "cell_type": "code",
   "execution_count": 156,
   "metadata": {},
   "outputs": [],
   "source": [
    "#  ディレクトリから.envファイルを探す\n",
    "dotenv_path = find_dotenv()\n",
    "\n",
    "# 環境変数をロード\n",
    "load_dotenv(dotenv_path)\n",
    "\n",
    "# API_KEYに環境変数を代入\n",
    "API_KEY = os.environ.get(\"PageSpeed_API_KEY\")"
   ]
  },
  {
   "cell_type": "markdown",
   "metadata": {},
   "source": [
    "## urllist.csvから、url一覧を取得"
   ]
  },
  {
   "cell_type": "code",
   "execution_count": 157,
   "metadata": {},
   "outputs": [],
   "source": [
    "url_list = []\n",
    "with open('urllist.csv','r') as f:\n",
    "    for row in f:\n",
    "        url_list.append(row.rstrip('\\n'))"
   ]
  },
  {
   "cell_type": "markdown",
   "metadata": {},
   "source": [
    "## 格納用のリスト・変数の準備"
   ]
  },
  {
   "cell_type": "code",
   "execution_count": 158,
   "metadata": {},
   "outputs": [],
   "source": [
    "# 結果格納用のリスト\n",
    "output = []\n",
    "\n",
    "# デバイス情報を格納\n",
    "strategy = ['desktop','mobile']\n",
    "\n",
    "# データ取得日を格納\n",
    "date = datetime.date.today().strftime('%Y/%m/%d')"
   ]
  },
  {
   "cell_type": "markdown",
   "metadata": {},
   "source": [
    "## APIをコールし、レスポンスを取得する関数"
   ]
  },
  {
   "cell_type": "code",
   "execution_count": 159,
   "metadata": {},
   "outputs": [],
   "source": [
    "def api_to_list(url,device):\n",
    "\n",
    "    # 結果格納用のリスト定義\n",
    "    single_list = [] \n",
    "    \n",
    "    api_format = 'https://www.googleapis.com/pagespeedonline/v2/runPagespeed?url={}&strategy={}&key={}'\n",
    "    api = api_format.format(url,device,API_KEY)\n",
    "    response = urllib.request.urlopen(api)\n",
    "    data = json.loads(response.read())\n",
    "    \n",
    "    # URLをパースする\n",
    "    parsed_url = urlparse(url)\n",
    "\n",
    "    # ドメインの取得\n",
    "    domain = parsed_url.netloc\n",
    "    \n",
    "    # レスポンスコードが200の場合はページスピードスコアを、それ以外はerrorを格納\n",
    "    if data['responseCode'] == 200:\n",
    "        title = data['title'] # ページtitleの取得\n",
    "        score = data['ruleGroups']['SPEED']['score'] # ページスピードスコアの取得\n",
    "        stats = data['pageStats'] # pageStatsの取得\n",
    "    else:\n",
    "        score = 'error' \n",
    "        stats = {\n",
    "            \"numberResources\": 'error' ,\n",
    "            \"numberHosts\": 'error' ,\n",
    "            \"totalRequestBytes\": 'error' ,\n",
    "            \"numberStaticResources\": 'error' ,\n",
    "            \"htmlResponseBytes\": 'error' ,\n",
    "            \"textResponseBytes\": 'error' ,\n",
    "            \"cssResponseBytes\": 'error' ,\n",
    "            \"imageResponseBytes\": 'error',\n",
    "            \"javascriptResponseBytes\": 'error',\n",
    "            \"otherResponseBytes\": 'error',\n",
    "            \"numberJsResources\": 'error',\n",
    "            \"numberCssResources\": 'error'\n",
    "        }\n",
    "    \n",
    "    # リストへの格納\n",
    "    single_list = [domain,date,device,url,title,score]\n",
    "    for value in stats.values():\n",
    "        single_list.append(value)\n",
    "\n",
    "    return(single_list)"
   ]
  },
  {
   "cell_type": "markdown",
   "metadata": {},
   "source": [
    "## APIをrequestし、結果をoutputに格納する関数"
   ]
  },
  {
   "cell_type": "code",
   "execution_count": 160,
   "metadata": {},
   "outputs": [],
   "source": [
    "def get_list(url_list,strategy):\n",
    "    for url in url_list:\n",
    "        for device in strategy:\n",
    "            output.append(api_to_list(url,device))\n",
    "    return output"
   ]
  },
  {
   "cell_type": "markdown",
   "metadata": {},
   "source": [
    "## 関数の実行結果をresultに格納"
   ]
  },
  {
   "cell_type": "code",
   "execution_count": 161,
   "metadata": {
    "scrolled": false
   },
   "outputs": [],
   "source": [
    "result = get_list(url_list,strategy)"
   ]
  },
  {
   "cell_type": "markdown",
   "metadata": {},
   "source": [
    "## 実行結果をデータフレームに変換"
   ]
  },
  {
   "cell_type": "code",
   "execution_count": 165,
   "metadata": {},
   "outputs": [
    {
     "data": {
      "text/html": [
       "<div>\n",
       "<style scoped>\n",
       "    .dataframe tbody tr th:only-of-type {\n",
       "        vertical-align: middle;\n",
       "    }\n",
       "\n",
       "    .dataframe tbody tr th {\n",
       "        vertical-align: top;\n",
       "    }\n",
       "\n",
       "    .dataframe thead th {\n",
       "        text-align: right;\n",
       "    }\n",
       "</style>\n",
       "<table border=\"1\" class=\"dataframe\">\n",
       "  <thead>\n",
       "    <tr style=\"text-align: right;\">\n",
       "      <th></th>\n",
       "      <th>ドメイン</th>\n",
       "      <th>データ取得日</th>\n",
       "      <th>デバイス</th>\n",
       "      <th>ページURL</th>\n",
       "      <th>ページtitle</th>\n",
       "      <th>ページスピードスコア</th>\n",
       "      <th>numberResources</th>\n",
       "      <th>numberHosts</th>\n",
       "      <th>totalRequestBytes</th>\n",
       "      <th>numberStaticResources</th>\n",
       "      <th>htmlResponseBytes</th>\n",
       "      <th>textResponseBytes</th>\n",
       "      <th>cssResponseBytes</th>\n",
       "      <th>imageResponseBytes</th>\n",
       "      <th>javascriptResponseBytes</th>\n",
       "      <th>otherResponseBytes</th>\n",
       "      <th>numberJsResources</th>\n",
       "      <th>numberCssResources</th>\n",
       "    </tr>\n",
       "  </thead>\n",
       "  <tbody>\n",
       "    <tr>\n",
       "      <th>0</th>\n",
       "      <td>employment.en-japan.com</td>\n",
       "      <td>2018/01/20</td>\n",
       "      <td>desktop</td>\n",
       "      <td>https://employment.en-japan.com/</td>\n",
       "      <td>転職サイトなら日本最大級の【エン転職】</td>\n",
       "      <td>44</td>\n",
       "      <td>247</td>\n",
       "      <td>77</td>\n",
       "      <td>53460</td>\n",
       "      <td>121</td>\n",
       "      <td>91006</td>\n",
       "      <td>242</td>\n",
       "      <td>237614</td>\n",
       "      <td>2027996</td>\n",
       "      <td>1010629</td>\n",
       "      <td>117417</td>\n",
       "      <td>60</td>\n",
       "      <td>7</td>\n",
       "    </tr>\n",
       "    <tr>\n",
       "      <th>1</th>\n",
       "      <td>employment.en-japan.com</td>\n",
       "      <td>2018/01/20</td>\n",
       "      <td>mobile</td>\n",
       "      <td>https://employment.en-japan.com/</td>\n",
       "      <td>エン転職</td>\n",
       "      <td>40</td>\n",
       "      <td>246</td>\n",
       "      <td>86</td>\n",
       "      <td>55337</td>\n",
       "      <td>91</td>\n",
       "      <td>103201</td>\n",
       "      <td>242</td>\n",
       "      <td>369865</td>\n",
       "      <td>2101014</td>\n",
       "      <td>1056995</td>\n",
       "      <td>38687</td>\n",
       "      <td>59</td>\n",
       "      <td>2</td>\n",
       "    </tr>\n",
       "    <tr>\n",
       "      <th>2</th>\n",
       "      <td>mid-tenshoku.com</td>\n",
       "      <td>2018/01/20</td>\n",
       "      <td>desktop</td>\n",
       "      <td>https://mid-tenshoku.com/</td>\n",
       "      <td>転職｜30代、40代の転職サイトは【ミドルの転職】エンジャパン</td>\n",
       "      <td>49</td>\n",
       "      <td>126</td>\n",
       "      <td>52</td>\n",
       "      <td>26144</td>\n",
       "      <td>70</td>\n",
       "      <td>115201</td>\n",
       "      <td>242</td>\n",
       "      <td>219761</td>\n",
       "      <td>1483191</td>\n",
       "      <td>1213841</td>\n",
       "      <td>30386</td>\n",
       "      <td>32</td>\n",
       "      <td>2</td>\n",
       "    </tr>\n",
       "    <tr>\n",
       "      <th>3</th>\n",
       "      <td>mid-tenshoku.com</td>\n",
       "      <td>2018/01/20</td>\n",
       "      <td>mobile</td>\n",
       "      <td>https://mid-tenshoku.com/</td>\n",
       "      <td>転職｜30代、40代の転職サイトは【ミドルの転職】エンジャパン</td>\n",
       "      <td>40</td>\n",
       "      <td>69</td>\n",
       "      <td>41</td>\n",
       "      <td>16520</td>\n",
       "      <td>33</td>\n",
       "      <td>34132</td>\n",
       "      <td>242</td>\n",
       "      <td>236795</td>\n",
       "      <td>2488344</td>\n",
       "      <td>1212722</td>\n",
       "      <td>23509</td>\n",
       "      <td>32</td>\n",
       "      <td>2</td>\n",
       "    </tr>\n",
       "  </tbody>\n",
       "</table>\n",
       "</div>"
      ],
      "text/plain": [
       "                      ドメイン      データ取得日     デバイス  \\\n",
       "0  employment.en-japan.com  2018/01/20  desktop   \n",
       "1  employment.en-japan.com  2018/01/20   mobile   \n",
       "2         mid-tenshoku.com  2018/01/20  desktop   \n",
       "3         mid-tenshoku.com  2018/01/20   mobile   \n",
       "\n",
       "                             ページURL                         ページtitle  \\\n",
       "0  https://employment.en-japan.com/              転職サイトなら日本最大級の【エン転職】   \n",
       "1  https://employment.en-japan.com/                             エン転職   \n",
       "2         https://mid-tenshoku.com/  転職｜30代、40代の転職サイトは【ミドルの転職】エンジャパン   \n",
       "3         https://mid-tenshoku.com/  転職｜30代、40代の転職サイトは【ミドルの転職】エンジャパン   \n",
       "\n",
       "   ページスピードスコア  numberResources  numberHosts totalRequestBytes  \\\n",
       "0          44              247           77             53460   \n",
       "1          40              246           86             55337   \n",
       "2          49              126           52             26144   \n",
       "3          40               69           41             16520   \n",
       "\n",
       "   numberStaticResources htmlResponseBytes textResponseBytes cssResponseBytes  \\\n",
       "0                    121             91006               242           237614   \n",
       "1                     91            103201               242           369865   \n",
       "2                     70            115201               242           219761   \n",
       "3                     33             34132               242           236795   \n",
       "\n",
       "  imageResponseBytes javascriptResponseBytes otherResponseBytes  \\\n",
       "0            2027996                 1010629             117417   \n",
       "1            2101014                 1056995              38687   \n",
       "2            1483191                 1213841              30386   \n",
       "3            2488344                 1212722              23509   \n",
       "\n",
       "   numberJsResources  numberCssResources  \n",
       "0                 60                   7  \n",
       "1                 59                   2  \n",
       "2                 32                   2  \n",
       "3                 32                   2  "
      ]
     },
     "execution_count": 165,
     "metadata": {},
     "output_type": "execute_result"
    }
   ],
   "source": [
    "df = pd.DataFrame(\n",
    "    result,\n",
    "    columns=['ドメイン','データ取得日','デバイス','ページURL','ページtitle','ページスピードスコア','numberResources',\n",
    "                   'numberHosts','totalRequestBytes','numberStaticResources','htmlResponseBytes','textResponseBytes','cssResponseBytes',\n",
    "                   'imageResponseBytes','javascriptResponseBytes','otherResponseBytes','numberJsResources','numberCssResources']\n",
    "     )\n",
    "df"
   ]
  },
  {
   "cell_type": "code",
   "execution_count": null,
   "metadata": {},
   "outputs": [],
   "source": []
  }
 ],
 "metadata": {
  "kernelspec": {
   "display_name": "Python 3",
   "language": "python",
   "name": "python3"
  },
  "language_info": {
   "codemirror_mode": {
    "name": "ipython",
    "version": 3
   },
   "file_extension": ".py",
   "mimetype": "text/x-python",
   "name": "python",
   "nbconvert_exporter": "python",
   "pygments_lexer": "ipython3",
   "version": "3.6.4"
  }
 },
 "nbformat": 4,
 "nbformat_minor": 2
}
